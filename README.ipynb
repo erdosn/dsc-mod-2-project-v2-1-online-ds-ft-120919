{
 "cells": [
  {
   "cell_type": "markdown",
   "metadata": {},
   "source": [
    "# Table Of Contents\n",
    "* [Motivation](#Motivation)\n",
    "* [Dataset Overview](#Dataset-Overview)\n",
    "* [Question 1](#Q1)\n",
    "* [Question 2](#Q2)\n",
    "* [Question 3](#Q3)\n",
    "* [Final Model](#Final-OLS-Model)\n",
    "* [Recommendations](#Recommendations)\n",
    "* [Future Work](#Future-Work)\n",
    "\n",
    "\n",
    "# Presentation\n",
    "<iframe width=\"560\" height=\"315\" src=\"https://www.youtube.com/embed/TVq2ivVpZgQ\" frameborder=\"0\" allow=\"accelerometer; autoplay; encrypted-media; gyroscope; picture-in-picture\" allowfullscreen></iframe>"
   ]
  },
  {
   "cell_type": "markdown",
   "metadata": {},
   "source": [
    "# Motivation\n",
    "In this project, I perform linear regression on the `kings_county` housing dataset. blah blah\n",
    "<img src='images/seattle-meme.jpeg' width='50%'/>\n",
    "\n",
    "\n",
    "# Dataset Overview\n",
    "\n",
    "<!---\n",
    "## Info\n",
    "<img align ='left' src=\"images/dataset.png\" width='100%'/>\n",
    "--->\n",
    "\n",
    "## Null Values\n",
    "<img src='images/nan-barchart.png'/>\n"
   ]
  },
  {
   "cell_type": "markdown",
   "metadata": {},
   "source": [
    "# Q1\n",
    "'write question 1 here'\n",
    "\n",
    "## EDA\n",
    "show some graphs\n",
    "![](images/latlon.png)\n",
    "\n",
    "## Observations\n",
    "....\n",
    "\n",
    "## Conclusion \n",
    "\n",
    "\n",
    "## Recommendation"
   ]
  },
  {
   "cell_type": "markdown",
   "metadata": {},
   "source": [
    "# Q2"
   ]
  },
  {
   "cell_type": "markdown",
   "metadata": {},
   "source": [
    "# Q3"
   ]
  },
  {
   "cell_type": "markdown",
   "metadata": {},
   "source": [
    "# Final OLS Model\n",
    "- Summary\n",
    "\n",
    "- Insights\n",
    "\n",
    "- Parameters\n",
    "\n",
    "- Interpretation\n",
    "\n",
    "- Residuals"
   ]
  },
  {
   "cell_type": "markdown",
   "metadata": {},
   "source": [
    "# Recommendations\n",
    "* \n",
    "* \n",
    "* \n",
    "\n",
    "# Future Work\n",
    "* \n",
    "* \n",
    "* "
   ]
  }
 ],
 "metadata": {
  "kernelspec": {
   "display_name": "Python [conda env:flatiron-env] *",
   "language": "python",
   "name": "conda-env-flatiron-env-py"
  },
  "language_info": {
   "codemirror_mode": {
    "name": "ipython",
    "version": 3
   },
   "file_extension": ".py",
   "mimetype": "text/x-python",
   "name": "python",
   "nbconvert_exporter": "python",
   "pygments_lexer": "ipython3",
   "version": "3.6.0"
  }
 },
 "nbformat": 4,
 "nbformat_minor": 2
}
